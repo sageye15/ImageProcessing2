{
 "cells": [
  {
   "cell_type": "code",
   "execution_count": 32,
   "id": "34943715-f9b2-45ca-afa7-473d373e9798",
   "metadata": {},
   "outputs": [],
   "source": [
    "import cv2 \n",
    "import numpy as np \n",
    "import matplotlib.pyplot as plt\n",
    "plt.rcParams['figure.figsize'] = [10, 3]\n",
    "\n",
    "def display_img(img):\n",
    "    new_img= cv2.cvtColor(img, cv2.COLOR_BGR2RGB)\n",
    "    plt.imshow(new_img)\n",
    "    plt.show()"
   ]
  },
  {
   "cell_type": "markdown",
   "id": "da6bfceb-9588-4c3c-bac4-0a104b8e19c5",
   "metadata": {},
   "source": [
    "# Task 1"
   ]
  },
  {
   "cell_type": "code",
   "execution_count": 2,
   "id": "4d11ea50-56f2-4bd0-b0eb-3f63244471e1",
   "metadata": {},
   "outputs": [],
   "source": [
    "#loading video\n",
    "vid1 = cv2.VideoCapture('./Task2-assets/videocut.mp4') \n",
    "#function to mask and extract color from each frame\n",
    "def maskframe(vid1):\n",
    "    _, frame = vid1.read()\n",
    "    mod_frame = frame \n",
    "    hsv_image = cv2.cvtColor(mod_frame, cv2.COLOR_BGR2HSV)\n",
    "    # extract blue\n",
    "    hsv_lower = np.array([94, 35, 176])\n",
    "    hsv_upper = np.array([113, 210, 255])\n",
    "    extracted_image = cv2.inRange(hsv_image, hsv_lower, hsv_upper)  \n",
    "    \n",
    "    _, frame = vid1.read()\n",
    "    mod_frame = frame\n",
    "    hsv_image = cv2.cvtColor(mod_frame, cv2.COLOR_BGR2HSV)\n",
    "    # extract blue\n",
    "    hsv_lower = np.array([94, 35, 176])\n",
    "    hsv_upper = np.array([113, 210, 255])\n",
    "    extracted_image = cv2.inRange(hsv_image, hsv_lower, hsv_upper)\n",
    "    \n",
    "    masked_image= cv2.bitwise_and(mod_frame, mod_frame, mask=extracted_image)\n",
    "    return masked_image"
   ]
  },
  {
   "cell_type": "code",
   "execution_count": 12,
   "id": "90b4227a-5c0c-4087-846d-9277b0a66d1e",
   "metadata": {},
   "outputs": [],
   "source": [
    "#displaying modified frames in loop\n",
    "while(1):\n",
    "  imgFrame = maskframe(vid1)\n",
    "  cv2.imshow('Modified video', imgFrame)\n",
    "  if imgFrame is None: \n",
    "      break\n",
    "  if cv2.waitKey(20) & 0xFF == ord('q'):\n",
    "      break\n",
    "\n",
    "vid1.release()\n",
    "cv2.destroyAllWindows()"
   ]
  },
  {
   "cell_type": "markdown",
   "id": "a514f484-0afa-49b4-bb9b-08e72d9bcc76",
   "metadata": {},
   "source": [
    "# Task 2 "
   ]
  },
  {
   "cell_type": "code",
   "execution_count": 58,
   "id": "852b1a26-f135-4897-a0c4-48c880e74df7",
   "metadata": {},
   "outputs": [],
   "source": [
    "def create_gaussian_kernel(kernel_size, sigma):\n",
    "    kernel = np.zeros((kernel_size, kernel_size))\n",
    "    center = kernel_size // 2\n",
    "    for i in range(kernel_size):\n",
    "        for j in range(kernel_size):\n",
    "            kernel[i, j] = (1 / (2 * np.pi * sigma ** 2)) * np.exp(-((i - center)**2 + (j - center)**2) / (2 * sigma ** 2))\n",
    "\n",
    "    kernel = kernel / np.sum(kernel)\n",
    "\n",
    "    return kernel"
   ]
  },
  {
   "cell_type": "code",
   "execution_count": 63,
   "id": "b1e0c7c2-7163-4511-b81c-6f3559705ade",
   "metadata": {},
   "outputs": [],
   "source": [
    "\n",
    "def gaussian_filter(image, kernel_size, sigma):\n",
    "    kernel = create_gaussian_kernel(kernel_size, sigma)\n",
    "    output = np.zeros_like(image)\n",
    "\n",
    "    for i in range(image.shape[0]):\n",
    "        for j in range(image.shape[1]):\n",
    "            output[i, j] = np.sum(image[i - kernel_size // 2:i + kernel_size // 2, j - kernel_size // 2:j + kernel_size // 2] * kernel)\n",
    "\n",
    "    return output\n"
   ]
  },
  {
   "cell_type": "code",
   "execution_count": 64,
   "id": "e7406163-9c0c-4e5e-b738-970709916cec",
   "metadata": {},
   "outputs": [
    {
     "ename": "ValueError",
     "evalue": "operands could not be broadcast together with shapes (0,0,3) (3,3) ",
     "output_type": "error",
     "traceback": [
      "\u001b[1;31m---------------------------------------------------------------------------\u001b[0m",
      "\u001b[1;31mValueError\u001b[0m                                Traceback (most recent call last)",
      "Cell \u001b[1;32mIn[64], line 2\u001b[0m\n\u001b[0;32m      1\u001b[0m img \u001b[38;5;241m=\u001b[39m cv2\u001b[38;5;241m.\u001b[39mimread(\u001b[38;5;124m'\u001b[39m\u001b[38;5;124m./Task2-assets/fish.jpg\u001b[39m\u001b[38;5;124m'\u001b[39m)\n\u001b[1;32m----> 2\u001b[0m \u001b[43mgaussian_filter\u001b[49m\u001b[43m(\u001b[49m\u001b[43mimg\u001b[49m\u001b[43m,\u001b[49m\u001b[43m \u001b[49m\u001b[38;5;241;43m3\u001b[39;49m\u001b[43m,\u001b[49m\u001b[43m \u001b[49m\u001b[38;5;241;43m10\u001b[39;49m\u001b[43m)\u001b[49m\n",
      "Cell \u001b[1;32mIn[63], line 7\u001b[0m, in \u001b[0;36mgaussian_filter\u001b[1;34m(image, kernel_size, sigma)\u001b[0m\n\u001b[0;32m      5\u001b[0m \u001b[38;5;28;01mfor\u001b[39;00m i \u001b[38;5;129;01min\u001b[39;00m \u001b[38;5;28mrange\u001b[39m(image\u001b[38;5;241m.\u001b[39mshape[\u001b[38;5;241m0\u001b[39m]):\n\u001b[0;32m      6\u001b[0m     \u001b[38;5;28;01mfor\u001b[39;00m j \u001b[38;5;129;01min\u001b[39;00m \u001b[38;5;28mrange\u001b[39m(image\u001b[38;5;241m.\u001b[39mshape[\u001b[38;5;241m1\u001b[39m]):\n\u001b[1;32m----> 7\u001b[0m         output[i, j] \u001b[38;5;241m=\u001b[39m np\u001b[38;5;241m.\u001b[39msum(\u001b[43mimage\u001b[49m\u001b[43m[\u001b[49m\u001b[43mi\u001b[49m\u001b[43m \u001b[49m\u001b[38;5;241;43m-\u001b[39;49m\u001b[43m \u001b[49m\u001b[43mkernel_size\u001b[49m\u001b[43m \u001b[49m\u001b[38;5;241;43m/\u001b[39;49m\u001b[38;5;241;43m/\u001b[39;49m\u001b[43m \u001b[49m\u001b[38;5;241;43m2\u001b[39;49m\u001b[43m:\u001b[49m\u001b[43mi\u001b[49m\u001b[43m \u001b[49m\u001b[38;5;241;43m+\u001b[39;49m\u001b[43m \u001b[49m\u001b[43mkernel_size\u001b[49m\u001b[43m \u001b[49m\u001b[38;5;241;43m/\u001b[39;49m\u001b[38;5;241;43m/\u001b[39;49m\u001b[43m \u001b[49m\u001b[38;5;241;43m2\u001b[39;49m\u001b[43m,\u001b[49m\u001b[43m \u001b[49m\u001b[43mj\u001b[49m\u001b[43m \u001b[49m\u001b[38;5;241;43m-\u001b[39;49m\u001b[43m \u001b[49m\u001b[43mkernel_size\u001b[49m\u001b[43m \u001b[49m\u001b[38;5;241;43m/\u001b[39;49m\u001b[38;5;241;43m/\u001b[39;49m\u001b[43m \u001b[49m\u001b[38;5;241;43m2\u001b[39;49m\u001b[43m:\u001b[49m\u001b[43mj\u001b[49m\u001b[43m \u001b[49m\u001b[38;5;241;43m+\u001b[39;49m\u001b[43m \u001b[49m\u001b[43mkernel_size\u001b[49m\u001b[43m \u001b[49m\u001b[38;5;241;43m/\u001b[39;49m\u001b[38;5;241;43m/\u001b[39;49m\u001b[43m \u001b[49m\u001b[38;5;241;43m2\u001b[39;49m\u001b[43m]\u001b[49m\u001b[43m \u001b[49m\u001b[38;5;241;43m*\u001b[39;49m\u001b[43m \u001b[49m\u001b[43mkernel\u001b[49m)\n\u001b[0;32m      9\u001b[0m \u001b[38;5;28;01mreturn\u001b[39;00m output\n",
      "\u001b[1;31mValueError\u001b[0m: operands could not be broadcast together with shapes (0,0,3) (3,3) "
     ]
    }
   ],
   "source": [
    "img = cv2.imread('./Task2-assets/fish.jpg')\n",
    "gaussian_filter(img, 3, 10)"
   ]
  },
  {
   "cell_type": "markdown",
   "id": "611e0aa3-a9a1-4753-ab79-8e2d04cf3161",
   "metadata": {},
   "source": [
    "# Task 3"
   ]
  },
  {
   "cell_type": "code",
   "execution_count": 10,
   "id": "27990455-6612-4086-8025-da81652a318e",
   "metadata": {},
   "outputs": [
    {
     "name": "stdout",
     "output_type": "stream",
     "text": [
      "1 252 178\n",
      "[ 11 258 322]\n"
     ]
    }
   ],
   "source": [
    "newimg = None\n",
    "\n",
    "img=cv2.imread('./Task2-assets/color.jpg') \n",
    "mod_img=cv2.cvtColor(img,cv2.COLOR_BGR2HSV)\n",
    "\n",
    "def changeToPxColor(event,x,y,flags,param):\n",
    "    global newimg\n",
    "    if event == cv2.EVENT_LBUTTONDOWN:\n",
    "            h = mod_img[y, x, 0]\n",
    "            v= mod_img[y, x, 1]\n",
    "            s = mod_img[y, x, 2] \n",
    "            print(h, v, s)\n",
    "        \n",
    "            #extracting the color\n",
    "            hsv_low = np.array([h-10, s-80, v-70])\n",
    "            hsv_high = np.array([h+10, s+80, v+70])\n",
    "            extracted_image = cv2.inRange(mod_img,hsv_low ,hsv_high )\n",
    "\n",
    "            #extracting the color\n",
    "            hsv_low = np.array([h-10, s-80, v-70])\n",
    "            hsv_high = np.array([h+10, s+80, v+70])\n",
    "            print(hsv_high)\n",
    "            extracted_image = cv2.inRange(mod_img, hsv_low, hsv_high)\n",
    "            newimg= cv2.bitwise_and(img, img, mask=extracted_image)\n",
    "            #newimg = cv2.cvtColor(newimg,cv2.COLOR_BGR2HSV)\n",
    "\n",
    "cv2.namedWindow('colors')\n",
    "cv2.setMouseCallback('colors',changeToPxColor)\n",
    "\n",
    "while(1):\n",
    "    cv2.imshow('colors',img)\n",
    "    if newimg is not None:\n",
    "        cv2.imshow('new color', newimg)\n",
    "    key = cv2.waitKey(1)\n",
    "    if key == 27:\n",
    "        break\n",
    "cv2.destroyAllWindows()\n"
   ]
  },
  {
   "cell_type": "code",
   "execution_count": null,
   "id": "be6b96c1-b78e-4716-883f-fc3367aadb7a",
   "metadata": {},
   "outputs": [],
   "source": []
  },
  {
   "cell_type": "code",
   "execution_count": null,
   "id": "0d1c3484-d1ea-4289-a5ad-6065449765ec",
   "metadata": {},
   "outputs": [],
   "source": []
  }
 ],
 "metadata": {
  "kernelspec": {
   "display_name": "Python 3 (ipykernel)",
   "language": "python",
   "name": "python3"
  },
  "language_info": {
   "codemirror_mode": {
    "name": "ipython",
    "version": 3
   },
   "file_extension": ".py",
   "mimetype": "text/x-python",
   "name": "python",
   "nbconvert_exporter": "python",
   "pygments_lexer": "ipython3",
   "version": "3.11.4"
  }
 },
 "nbformat": 4,
 "nbformat_minor": 5
}
