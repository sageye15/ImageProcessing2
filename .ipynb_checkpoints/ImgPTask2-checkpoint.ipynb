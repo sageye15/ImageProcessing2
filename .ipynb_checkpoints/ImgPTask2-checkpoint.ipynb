{
 "cells": [
  {
   "cell_type": "code",
   "execution_count": null,
   "id": "34943715-f9b2-45ca-afa7-473d373e9798",
   "metadata": {},
   "outputs": [],
   "source": [
    "import cv2 \n",
    "import numpy as np \n",
    "import matplotlib.pyplot as plt\n",
    "plt.rcParams['figure.figsize'] = [10, 3]"
   ]
  },
  {
   "cell_type": "markdown",
   "id": "da6bfceb-9588-4c3c-bac4-0a104b8e19c5",
   "metadata": {},
   "source": [
    "# Task 1"
   ]
  },
  {
   "cell_type": "code",
   "execution_count": null,
   "id": "4d11ea50-56f2-4bd0-b0eb-3f63244471e1",
   "metadata": {},
   "outputs": [],
   "source": [
    "vid1= cv2.VideoCapture('./Task2-assets/videocut.mp4')"
   ]
  },
  {
   "cell_type": "code",
   "execution_count": null,
   "id": "90b4227a-5c0c-4087-846d-9277b0a66d1e",
   "metadata": {},
   "outputs": [],
   "source": [
    "#ensuring video file is sucessfully loaded \n",
    "while vid1.isOpened():\n",
    " ret, frame = vid1.read()\n",
    " # if frame is read correctly ret is True\n",
    " if not ret:\n",
    " print(\"Can't receive frame\")\n",
    " break\n",
    " cv2.imshow('frame', vid1)\n",
    " if cv2.waitKey(1) == ord('q'):\n",
    " break\n",
    "\n",
    "cv2.destroyAllWindows()"
   ]
  },
  {
   "cell_type": "code",
   "execution_count": null,
   "id": "1efa4926-35ef-45e1-be9f-f8ed1d4fb5e8",
   "metadata": {},
   "outputs": [],
   "source": []
  },
  {
   "cell_type": "code",
   "execution_count": null,
   "id": "4be546f8-5fb4-46c0-941d-e455255850ed",
   "metadata": {},
   "outputs": [],
   "source": []
  }
 ],
 "metadata": {
  "kernelspec": {
   "display_name": "Python 3 (ipykernel)",
   "language": "python",
   "name": "python3"
  },
  "language_info": {
   "codemirror_mode": {
    "name": "ipython",
    "version": 3
   },
   "file_extension": ".py",
   "mimetype": "text/x-python",
   "name": "python",
   "nbconvert_exporter": "python",
   "pygments_lexer": "ipython3",
   "version": "3.11.4"
  }
 },
 "nbformat": 4,
 "nbformat_minor": 5
}
