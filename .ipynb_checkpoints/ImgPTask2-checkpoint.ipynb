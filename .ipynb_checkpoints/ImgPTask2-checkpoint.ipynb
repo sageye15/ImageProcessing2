{
 "cells": [
  {
   "cell_type": "code",
   "execution_count": 19,
   "id": "34943715-f9b2-45ca-afa7-473d373e9798",
   "metadata": {},
   "outputs": [],
   "source": [
    "import cv2 \n",
    "import numpy as np \n",
    "import matplotlib.pyplot as plt\n",
    "plt.rcParams['figure.figsize'] = [10, 3]\n",
    "\n",
    "def display_img(img):\n",
    "    new_img= cv2.cvtColor(img, cv2.COLOR_BGR2RGB)\n",
    "    plt.imshow(new_img)\n",
    "    plt.show()"
   ]
  },
  {
   "cell_type": "markdown",
   "id": "da6bfceb-9588-4c3c-bac4-0a104b8e19c5",
   "metadata": {},
   "source": [
    "# Task 1"
   ]
  },
  {
   "cell_type": "code",
   "execution_count": 11,
   "id": "4d11ea50-56f2-4bd0-b0eb-3f63244471e1",
   "metadata": {},
   "outputs": [],
   "source": [
    "#loading video\n",
    "vid1 = cv2.VideoCapture('./Task2-assets/videocut.mp4') \n",
    "#function to mask and extract color from each frame\n",
    "def maskframe(vid1):\n",
    "    _, frame = vid1.read()\n",
    "    mod_frame = frame \n",
    "    hsv_image = cv2.cvtColor(mod_frame, cv2.COLOR_BGR2HSV)\n",
    "    # extract blue\n",
    "    hsv_lower = np.array([94, 35, 176])\n",
    "    hsv_upper = np.array([113, 210, 255])\n",
    "    extracted_image = cv2.inRange(hsv_image, hsv_lower, hsv_upper)  \n",
    "    \n",
    "    _, frame = vid1.read()\n",
    "    mod_frame = frame\n",
    "    hsv_image = cv2.cvtColor(mod_frame, cv2.COLOR_BGR2HSV)\n",
    "    # extract blue\n",
    "    hsv_lower = np.array([94, 35, 176])\n",
    "    hsv_upper = np.array([113, 210, 255])\n",
    "    extracted_image = cv2.inRange(hsv_image, hsv_lower, hsv_upper)\n",
    "    \n",
    "    masked_image= cv2.bitwise_and(mod_frame, mod_frame, mask=extracted_image)\n",
    "    return masked_image"
   ]
  },
  {
   "cell_type": "code",
   "execution_count": 12,
   "id": "90b4227a-5c0c-4087-846d-9277b0a66d1e",
   "metadata": {},
   "outputs": [],
   "source": [
    "#displaying modified frames in loop\n",
    "while(1):\n",
    "  imgFrame = maskframe(vid1)\n",
    "  cv2.imshow('Modified video', imgFrame)\n",
    "  if imgFrame is None: \n",
    "      break\n",
    "  if cv2.waitKey(20) & 0xFF == ord('q'):\n",
    "      break\n",
    "\n",
    "vid1.release()\n",
    "cv2.destroyAllWindows()"
   ]
  },
  {
   "cell_type": "markdown",
   "id": "a514f484-0afa-49b4-bb9b-08e72d9bcc76",
   "metadata": {},
   "source": [
    "# Task 2 "
   ]
  },
  {
   "cell_type": "code",
   "execution_count": null,
   "id": "e7406163-9c0c-4e5e-b738-970709916cec",
   "metadata": {},
   "outputs": [],
   "source": []
  },
  {
   "cell_type": "markdown",
   "id": "611e0aa3-a9a1-4753-ab79-8e2d04cf3161",
   "metadata": {},
   "source": [
    "# Task 3"
   ]
  },
  {
   "cell_type": "code",
   "execution_count": 29,
   "id": "920be123-5a34-4695-8895-02160e2c9a30",
   "metadata": {},
   "outputs": [],
   "source": [
    "#loading image \n",
    "img=cv2.imread('./Task2-assets/fish.jpg') \n",
    "cv2.imshow('fish',img)\n",
    "cv2.waitKey(0)\n",
    "cv2.destroyAllWindows()"
   ]
  },
  {
   "cell_type": "code",
   "execution_count": null,
   "id": "27990455-6612-4086-8025-da81652a318e",
   "metadata": {},
   "outputs": [],
   "source": [
    "pixel = None\n",
    "row = None\n",
    "column = None\n",
    "newimg = None\n",
    "\n",
    "def changeToPxColor(event,x,y,flags,param):\n",
    "    global pixel, newimg\n",
    "    if event == cv2.EVENT_LBUTTONDOWN:\n",
    "        if pixel is None:\n",
    "            pixel= (x,y)\n",
    "            red = pixel.get_red()\n",
    "            green = pixel.get_green()\n",
    "            blue = pixel.get_blue()\n",
    "            \n",
    "            # extract color\n",
    "            img=cv2.imread('./Task2-assets/fish.jpg') \n",
    "            bgr_val = np.array([blue, green, red])\n",
    "            extracted_image = cv2.inRange(img,bgr_val ,bgr_val )\n",
    "            \n",
    "            img=cv2.imread('./Task2-assets/fish.jpg') \n",
    "            # extract color\n",
    "            bgr_val = np.array([blue, green, red])\n",
    "            extracted_image = cv2.inRange(img, bgr_val, bgr_val)\n",
    "            newimg= cv2.bitwise_and(image, image, mask=extracted_image)\n",
    "            \n",
    "        \n",
    "            \n",
    "cv2.namedWindow('fish')\n",
    "cv2.setMouseCallback('fish',changeToPxColor)\n",
    "\n",
    "while(1):\n",
    "    cv2.imshow('fish',fish)\n",
    "    key = cv2.waitKey(1)\n",
    "    if key == 27:\n",
    "        break\n",
    "cv2.destroyAllWindows()\n"
   ]
  }
 ],
 "metadata": {
  "kernelspec": {
   "display_name": "Python 3 (ipykernel)",
   "language": "python",
   "name": "python3"
  },
  "language_info": {
   "codemirror_mode": {
    "name": "ipython",
    "version": 3
   },
   "file_extension": ".py",
   "mimetype": "text/x-python",
   "name": "python",
   "nbconvert_exporter": "python",
   "pygments_lexer": "ipython3",
   "version": "3.11.4"
  }
 },
 "nbformat": 4,
 "nbformat_minor": 5
}
