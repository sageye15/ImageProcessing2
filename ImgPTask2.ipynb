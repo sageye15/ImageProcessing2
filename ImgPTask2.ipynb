{
 "cells": [
  {
   "cell_type": "code",
   "execution_count": 7,
   "id": "34943715-f9b2-45ca-afa7-473d373e9798",
   "metadata": {},
   "outputs": [],
   "source": [
    "import cv2 \n",
    "import numpy as np \n",
    "import matplotlib.pyplot as plt\n",
    "plt.rcParams['figure.figsize'] = [10, 3]\n",
    "\n",
    "def display_img(img):\n",
    "    new_img= cv2.cvtColor(img, cv2.COLOR_BGR2RGB)\n",
    "    plt.imshow(new_img)\n",
    "    plt.show()"
   ]
  },
  {
   "cell_type": "markdown",
   "id": "da6bfceb-9588-4c3c-bac4-0a104b8e19c5",
   "metadata": {},
   "source": [
    "# Task 1"
   ]
  },
  {
   "cell_type": "code",
   "execution_count": 17,
   "id": "4d11ea50-56f2-4bd0-b0eb-3f63244471e1",
   "metadata": {},
   "outputs": [],
   "source": [
    "#loading video\n",
    "vid1 = cv2.VideoCapture('./Task2-assets/videocut.mp4') \n",
    "#function to mask and extract color from each frame\n",
    "def maskframe(vid1):\n",
    "    _, frame = vid1.read()\n",
    "    mod_frame = frame \n",
    "    hsv_image = cv2.cvtColor(mod_frame, cv2.COLOR_BGR2HSV)\n",
    "    # extract blue\n",
    "    hsv_lower = np.array([94, 35, 176])\n",
    "    hsv_upper = np.array([113, 210, 255])\n",
    "    extracted_image = cv2.inRange(hsv_image, hsv_lower, hsv_upper)  \n",
    "    \n",
    "    _, frame = vid1.read()\n",
    "    mod_frame = frame\n",
    "    hsv_image = cv2.cvtColor(mod_frame, cv2.COLOR_BGR2HSV)\n",
    "    # extract blue\n",
    "    hsv_lower = np.array([94, 35, 176])\n",
    "    hsv_upper = np.array([113, 210, 255])\n",
    "    extracted_image = cv2.inRange(hsv_image, hsv_lower, hsv_upper)\n",
    "    \n",
    "    masked_image= cv2.bitwise_and(mod_frame, mod_frame, mask=extracted_image)\n",
    "    return masked_image"
   ]
  },
  {
   "cell_type": "code",
   "execution_count": 19,
   "id": "90b4227a-5c0c-4087-846d-9277b0a66d1e",
   "metadata": {},
   "outputs": [
    {
     "ename": "error",
     "evalue": "OpenCV(4.8.0) D:\\a\\opencv-python\\opencv-python\\opencv\\modules\\imgproc\\src\\color.cpp:182: error: (-215:Assertion failed) !_src.empty() in function 'cv::cvtColor'\n",
     "output_type": "error",
     "traceback": [
      "\u001b[1;31m---------------------------------------------------------------------------\u001b[0m",
      "\u001b[1;31merror\u001b[0m                                     Traceback (most recent call last)",
      "Cell \u001b[1;32mIn[19], line 3\u001b[0m\n\u001b[0;32m      1\u001b[0m \u001b[38;5;66;03m#displaying frames in loop\u001b[39;00m\n\u001b[0;32m      2\u001b[0m \u001b[38;5;28;01mwhile\u001b[39;00m(\u001b[38;5;241m1\u001b[39m):\n\u001b[1;32m----> 3\u001b[0m   imgFrame \u001b[38;5;241m=\u001b[39m \u001b[43mmaskframe\u001b[49m\u001b[43m(\u001b[49m\u001b[43mvid1\u001b[49m\u001b[43m)\u001b[49m\n\u001b[0;32m      4\u001b[0m   cv2\u001b[38;5;241m.\u001b[39mimshow(\u001b[38;5;124m'\u001b[39m\u001b[38;5;124mModified video\u001b[39m\u001b[38;5;124m'\u001b[39m, imgFrame)\n\u001b[0;32m      5\u001b[0m   \u001b[38;5;28;01mif\u001b[39;00m imgFrame \u001b[38;5;129;01mis\u001b[39;00m \u001b[38;5;28;01mNone\u001b[39;00m: \n",
      "Cell \u001b[1;32mIn[17], line 7\u001b[0m, in \u001b[0;36mmaskframe\u001b[1;34m(vid1)\u001b[0m\n\u001b[0;32m      5\u001b[0m _, frame \u001b[38;5;241m=\u001b[39m vid1\u001b[38;5;241m.\u001b[39mread()\n\u001b[0;32m      6\u001b[0m mod_frame \u001b[38;5;241m=\u001b[39m frame \n\u001b[1;32m----> 7\u001b[0m hsv_image \u001b[38;5;241m=\u001b[39m \u001b[43mcv2\u001b[49m\u001b[38;5;241;43m.\u001b[39;49m\u001b[43mcvtColor\u001b[49m\u001b[43m(\u001b[49m\u001b[43mmod_frame\u001b[49m\u001b[43m,\u001b[49m\u001b[43m \u001b[49m\u001b[43mcv2\u001b[49m\u001b[38;5;241;43m.\u001b[39;49m\u001b[43mCOLOR_BGR2HSV\u001b[49m\u001b[43m)\u001b[49m\n\u001b[0;32m      8\u001b[0m \u001b[38;5;66;03m# extract blue\u001b[39;00m\n\u001b[0;32m      9\u001b[0m hsv_lower \u001b[38;5;241m=\u001b[39m np\u001b[38;5;241m.\u001b[39marray([\u001b[38;5;241m94\u001b[39m, \u001b[38;5;241m35\u001b[39m, \u001b[38;5;241m176\u001b[39m])\n",
      "\u001b[1;31merror\u001b[0m: OpenCV(4.8.0) D:\\a\\opencv-python\\opencv-python\\opencv\\modules\\imgproc\\src\\color.cpp:182: error: (-215:Assertion failed) !_src.empty() in function 'cv::cvtColor'\n"
     ]
    }
   ],
   "source": [
    "#displaying frames in loop\n",
    "while(1):\n",
    "  imgFrame = maskframe(vid1)\n",
    "  cv2.imshow('Modified video', imgFrame)\n",
    "  if imgFrame is None: \n",
    "      break\n",
    "  if cv2.waitKey(20) & 0xFF == ord('q'):\n",
    "      break\n",
    "\n",
    "vid1.release()\n",
    "cv2.destroyAllWindows()"
   ]
  },
  {
   "cell_type": "markdown",
   "id": "a514f484-0afa-49b4-bb9b-08e72d9bcc76",
   "metadata": {},
   "source": [
    "# Task 2 "
   ]
  },
  {
   "cell_type": "code",
   "execution_count": null,
   "id": "4be546f8-5fb4-46c0-941d-e455255850ed",
   "metadata": {},
   "outputs": [],
   "source": []
  }
 ],
 "metadata": {
  "kernelspec": {
   "display_name": "Python 3 (ipykernel)",
   "language": "python",
   "name": "python3"
  },
  "language_info": {
   "codemirror_mode": {
    "name": "ipython",
    "version": 3
   },
   "file_extension": ".py",
   "mimetype": "text/x-python",
   "name": "python",
   "nbconvert_exporter": "python",
   "pygments_lexer": "ipython3",
   "version": "3.11.4"
  }
 },
 "nbformat": 4,
 "nbformat_minor": 5
}
